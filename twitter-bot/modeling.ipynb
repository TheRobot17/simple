{
 "cells": [
  {
   "cell_type": "markdown",
   "metadata": {},
   "source": [
    "# Twitter Bot Detection: Classification Modeling\n",
    "\n",
    "\n",
    "The goal of this project is to use machine learning classification models to detect whether a Twitter user is a bot based on account-level information (e.g. number of followers, number of tweets, etc.). This approach will *not* look at the actual contents of tweets. \n",
    "\n",
    "After exploring the data and identifying and engineering some potential features, I'll evaluate several classification models to find the best one for Twitter bot detection.\n",
    "\n",
    "I'll be searching for models that have balanced scores between precision and recall and strong ROC AUC scores -- while I want the model to accurately label bots as often as possible, I also want to reduce misclassification and not simply label *everything* as a bot.\n",
    "\n",
    "**Process**\n",
    "1. Evaluate 'out-of-the-box' models and narrow down candidates to 2-3 models based on cross-validated scoring metrics.\n",
    "2. Consider class-weight balancing (data is ~70/30 split human/bot)\n",
    "3. Refine feature selection and tune candidate model parameters\n",
    "4. Consider ensembling best models with VotingClassifier model\n",
    "5. Pick best model, and perform full train and test\n",
    "6. Train best model on full data set and pickle to be used in Flask app"
   ]
  },
  {
   "cell_type": "code",
   "execution_count": null,
   "metadata": {
    "ExecuteTime": {
     "end_time": "2020-10-27T23:41:36.574031Z",
     "start_time": "2020-10-27T23:41:35.032005Z"
    }
   },
   "outputs": [],
   "source": [
    "# Basics\n",
    "import pandas as pd\n",
    "import psycopg2 as pg\n",
    "import numpy as np\n",
    "import pickle\n",
    "\n",
    "# Visuals\n",
    "import matplotlib.pyplot as plt\n",
    "%matplotlib inline\n",
    "import seaborn as sns\n",
    "from model_evaluation import *\n",
    "\n",
    "# Models\n",
    "from sklearn.tree import DecisionTreeClassifier\n",
    "from sklearn.naive_bayes import GaussianNB, BernoulliNB, MultinomialNB\n",
    "from sklearn.neighbors import KNeighborsClassifier\n",
    "from sklearn.linear_model import LogisticRegression\n",
    "from sklearn.ensemble import RandomForestClassifier, VotingClassifier\n",
    "from sklearn.svm import SVC\n",
    "from xgboost import XGBClassifier\n",
    "\n",
    "# Model support\n",
    "from sklearn.model_selection import train_test_split, cross_val_score\n",
    "from sklearn.preprocessing import StandardScaler\n",
    "from sklearn.metrics import (accuracy_score, classification_report, confusion_matrix, f1_score, auc,\n",
    "                             plot_confusion_matrix, precision_score, recall_score, roc_auc_score, roc_curve, \n",
    "                             precision_recall_curve)"
   ]
  },
  {
   "cell_type": "markdown",
   "metadata": {},
   "source": [
    "## Data import and set up\n",
    "\n",
    "Importing data from SQL database and setting up features/interactions from EDA notebook to be used in modeling"
   ]
  },
  {
   "cell_type": "code",
   "execution_count": null,
   "metadata": {
    "ExecuteTime": {
     "end_time": "2020-10-27T23:41:36.646002Z",
     "start_time": "2020-10-27T23:41:36.576163Z"
    }
   },
   "outputs": [],
   "source": [
    "# Postgres info to connect\n",
    "connection_args = {\n",
    "    'host': 'localhost',             # Connecting to _local_ version of psql\n",
    "    'dbname': 'twitter_accounts',    # DB with Twitter info\n",
    "    'port': 5432                     # port we opened on AWS\n",
    "}\n",
    "\n",
    "connection = pg.connect(**connection_args)"
   ]
  },
  {
   "cell_type": "code",
   "execution_count": null,
   "metadata": {
    "ExecuteTime": {
     "end_time": "2020-10-27T23:41:37.019793Z",
     "start_time": "2020-10-27T23:41:36.652076Z"
    }
   },
   "outputs": [],
   "source": [
    "raw_df = pd.read_sql('SELECT * FROM human_bots', connection)\n"
   ]
  },
  {
   "cell_type": "code",
   "execution_count": null,
   "metadata": {
    "ExecuteTime": {
     "end_time": "2020-10-27T23:41:37.080120Z",
     "start_time": "2020-10-27T23:41:37.021919Z"
    }
   },
   "outputs": [],
   "source": [
    "# drop funny index column\n",
    "raw_df.drop(columns=['index'], inplace=True)\n",
    "\n",
    "# Binary classifications for bots and boolean values\n",
    "raw_df['bot'] = raw_df['account_type'].apply(lambda x: 1 if x == 'bot' else 0)\n",
    "raw_df['default_profile'] = raw_df['default_profile'].astype(int)\n",
    "raw_df['default_profile'] = raw_df['default_profile'].astype(int)\n",
    "raw_df['default_profile_image'] = raw_df['default_profile_image'].astype(int)\n",
    "raw_df['geo_enabled'] = raw_df['geo_enabled'].astype(int)\n",
    "raw_df['verified'] = raw_df['verified'].astype(int)\n",
    "\n",
    "# datetime conversion\n",
    "raw_df['created_at'] = pd.to_datetime(raw_df['created_at'])\n",
    "# hour created\n",
    "raw_df['hour_created'] = pd.to_datetime(raw_df['created_at']).dt.hour"
   ]
  },
  {
   "cell_type": "code",
   "execution_count": null,
   "metadata": {
    "ExecuteTime": {
     "end_time": "2020-10-27T23:41:37.091058Z",
     "start_time": "2020-10-27T23:41:37.081925Z"
    }
   },
   "outputs": [],
   "source": [
    "# usable df setup\n",
    "df = raw_df[['bot', 'screen_name', 'created_at', 'hour_created', 'verified', 'acct_location', 'geo_enabled', 'lang', \n",
    "             'default_profile', 'default_profile_image', 'favourites_count', 'followers_count', 'friends_count', \n",
    "             'statuses_count', 'average_tweets_per_day', 'account_age_days']]"
   ]
  },
  {
   "cell_type": "code",
   "execution_count": null,
   "metadata": {
    "ExecuteTime": {
     "end_time": "2020-10-27T23:41:37.100149Z",
     "start_time": "2020-10-27T23:41:37.092607Z"
    }
   },
   "outputs": [],
   "source": [
    "del raw_df"
   ]
  },
  {
   "cell_type": "code",
   "execution_count": null,
   "metadata": {
    "ExecuteTime": {
     "end_time": "2020-10-27T23:41:37.128163Z",
     "start_time": "2020-10-27T23:41:37.103626Z"
    }
   },
   "outputs": [],
   "source": [
    "# Interesting features to look at: \n",
    "df['avg_daily_followers'] = np.round((df['followers_count'] / df['account_age_days']), 3)\n",
    "df['avg_daily_friends'] = np.round((df['followers_count'] / df['account_age_days']), 3)\n",
    "df['avg_daily_favorites'] = np.round((df['followers_count'] / df['account_age_days']), 3)\n",
    "\n",
    "# Log transformations for highly skewed data\n",
    "df['friends_log'] = np.round(np.log(1 + df['friends_count']), 3)\n",
    "df['followers_log'] = np.round(np.log(1 + df['followers_count']), 3)\n",
    "df['favs_log'] = np.round(np.log(1 + df['favourites_count']), 3)\n",
    "df['avg_daily_tweets_log'] = np.round(np.log(1+ df['average_tweets_per_day']), 3)\n",
    "\n",
    "# Possible interactive features\n",
    "df['network'] = np.round(df['friends_log'] * df['followers_log'], 3)\n",
    "df['tweet_to_followers'] = np.round(np.log( 1 + df['statuses_count']) * np.log(1+ df['followers_count']), 3)\n",
    "\n",
    "# Log-transformed daily acquisition metrics for dist. plots\n",
    "df['follower_acq_rate'] = np.round(np.log(1 + (df['followers_count'] / df['account_age_days'])), 3)\n",
    "df['friends_acq_rate'] = np.round(np.log(1 + (df['friends_count'] / df['account_age_days'])), 3)\n",
    "df['favs_rate'] = np.round(np.log(1 + (df['friends_count'] / df['account_age_days'])), 3)"
   ]
  },
  {
   "cell_type": "code",
   "execution_count": null,
   "metadata": {
    "ExecuteTime": {
     "end_time": "2020-10-27T23:41:37.158152Z",
     "start_time": "2020-10-27T23:41:37.131845Z"
    }
   },
   "outputs": [],
   "source": [
    "df.head()"
   ]
  },
  {
   "cell_type": "markdown",
   "metadata": {},
   "source": [
    "First round of feature selection - these should be accessible by all modeling types."
   ]
  },
  {
   "cell_type": "code",
   "execution_count": null,
   "metadata": {
    "ExecuteTime": {
     "end_time": "2020-10-27T23:41:37.169657Z",
     "start_time": "2020-10-27T23:41:37.159724Z"
    }
   },
   "outputs": [],
   "source": [
    "features = ['verified', \n",
    "            #'created_at',\n",
    "            #'hour_created',\n",
    "            #'lang',\n",
    "            #'acct_location',\n",
    "            'geo_enabled', \n",
    "            'default_profile', \n",
    "            'default_profile_image', \n",
    "            'favourites_count', \n",
    "            'followers_count', \n",
    "            'friends_count', \n",
    "            'statuses_count', \n",
    "            'average_tweets_per_day',\n",
    "            #'avg_daily_followers', \n",
    "            #'avg_daily_friends',\n",
    "            #'avg_daily_favorites',\n",
    "            'network', \n",
    "            'tweet_to_followers', \n",
    "            'follower_acq_rate', \n",
    "            'friends_acq_rate', \n",
    "            'favs_rate'\n",
    "           ]\n",
    "\n",
    "X = df[features]\n",
    "y = df['bot']"
   ]
  },
  {
   "cell_type": "code",
   "execution_count": null,
   "metadata": {
    "ExecuteTime": {
     "end_time": "2020-10-27T23:41:37.181554Z",
     "start_time": "2020-10-27T23:41:37.171013Z"
    }
   },
   "outputs": [],
   "source": [
    "X, X_test, y, y_test = train_test_split(X, y, test_size=.3, random_state=1234)"
   ]
  },
  {
   "cell_type": "markdown",
   "metadata": {},
   "source": [
    "## Basic model evaluation\n",
    "\n",
    "**Models to be evaluated**\n",
    "* KNearestNeighbors\n",
    "* LogisticRegression\n",
    "* NaiveBayes (Gaussian, Bernoulli, Multinomial)\n",
    "* DecicionTree\n",
    "* RandomForest\n",
    "* XGBoost"
   ]
  },
  {
   "cell_type": "code",
   "execution_count": null,
   "metadata": {
    "ExecuteTime": {
     "end_time": "2020-10-27T23:41:37.196480Z",
     "start_time": "2020-10-27T23:41:37.183501Z"
    }
   },
   "outputs": [],
   "source": [
    "# Models that require scaling: \n",
    "knn = KNeighborsClassifier(n_neighbors=10)\n",
    "lr = LogisticRegression()\n",
    "\n",
    "# Scaling\n",
    "scalar = StandardScaler()\n",
    "scalar.fit(X)\n",
    "X_train_scaled = scalar.transform(X)\n",
    "\n",
    "model_list = [knn, lr]\n",
    "kf = KFold(n_splits=5, shuffle=True, random_state=33)"
   ]
  },
  {
   "cell_type": "code",
   "execution_count": null,
   "metadata": {
    "ExecuteTime": {
     "end_time": "2020-10-27T23:41:41.760626Z",
     "start_time": "2020-10-27T23:41:37.198529Z"
    },
    "scrolled": true
   },
   "outputs": [],
   "source": [
    "multi_model_eval(model_list, X_train_scaled, y, kf)"
   ]
  },
  {
   "cell_type": "code",
   "execution_count": null,
   "metadata": {
    "ExecuteTime": {
     "end_time": "2020-10-27T23:41:41.766006Z",
     "start_time": "2020-10-27T23:41:41.762448Z"
    }
   },
   "outputs": [],
   "source": [
    "# Models that don't require scaling\n",
    "gnb = GaussianNB()\n",
    "bnb = BernoulliNB()\n",
    "mnb = MultinomialNB()\n",
    "tree = DecisionTreeClassifier()\n",
    "forest = RandomForestClassifier()\n",
    "xgb = XGBClassifier()\n",
    "\n",
    "model_list = [gnb, bnb, mnb, tree, forest, xgb]\n",
    "kf = KFold(n_splits=3, shuffle=True, random_state=33)"
   ]
  },
  {
   "cell_type": "code",
   "execution_count": null,
   "metadata": {
    "ExecuteTime": {
     "end_time": "2020-10-27T23:41:52.389256Z",
     "start_time": "2020-10-27T23:41:41.767896Z"
    }
   },
   "outputs": [],
   "source": [
    "multi_model_eval(model_list, X, y, kf)"
   ]
  },
  {
   "cell_type": "markdown",
   "metadata": {
    "ExecuteTime": {
     "end_time": "2020-10-21T23:49:16.381002Z",
     "start_time": "2020-10-21T23:49:16.378814Z"
    }
   },
   "source": [
    "RandomForest and XGBoost seem most promising in terms of balance between Precision and Recall metrics and high ROC AUC scores. \n",
    "\n",
    "Next I'll plot out the Precision-Recall and ROC Curves for each under KFolds cross-validation."
   ]
  },
  {
   "cell_type": "code",
   "execution_count": null,
   "metadata": {
    "ExecuteTime": {
     "end_time": "2020-10-27T23:42:08.421159Z",
     "start_time": "2020-10-27T23:41:52.391122Z"
    }
   },
   "outputs": [],
   "source": [
    "forest = RandomForestClassifier()\n",
    "kf = KFold(n_splits=5, shuffle=True, random_state=33)\n",
    "\n",
    "roc_curve_cv(forest, X, y, kf, model_alias='RandomForest')"
   ]
  },
  {
   "cell_type": "code",
   "execution_count": null,
   "metadata": {
    "ExecuteTime": {
     "end_time": "2020-10-27T23:42:25.444876Z",
     "start_time": "2020-10-27T23:42:08.422555Z"
    }
   },
   "outputs": [],
   "source": [
    "precision_recall_cv(forest, X, y, kf, model_alias='RandomForest')"
   ]
  },
  {
   "cell_type": "code",
   "execution_count": null,
   "metadata": {
    "ExecuteTime": {
     "end_time": "2020-10-27T23:42:29.268482Z",
     "start_time": "2020-10-27T23:42:25.447836Z"
    },
    "scrolled": true
   },
   "outputs": [],
   "source": [
    "xgb = XGBClassifier()\n",
    "\n",
    "kf = KFold(n_splits=5, shuffle=True, random_state=33)\n",
    "\n",
    "roc_curve_cv(xgb, X, y, kf, model_alias='XGBoost')"
   ]
  },
  {
   "cell_type": "code",
   "execution_count": null,
   "metadata": {
    "ExecuteTime": {
     "end_time": "2020-10-27T23:42:32.835597Z",
     "start_time": "2020-10-27T23:42:29.270024Z"
    }
   },
   "outputs": [],
   "source": [
    "precision_recall_cv(xgb, X, y, kf, model_alias='XGBoost')"
   ]
  },
  {
   "cell_type": "markdown",
   "metadata": {},
   "source": [
    "XGBoost has a slight edge, but I think it's too close to call with the out of the box models. Next I'll see what kind of effect rebalancing class weights has on the models."
   ]
  },
  {
   "cell_type": "markdown",
   "metadata": {},
   "source": [
    "## Class weight balancing"
   ]
  },
  {
   "cell_type": "code",
   "execution_count": null,
   "metadata": {
    "ExecuteTime": {
     "end_time": "2020-10-27T23:42:32.848842Z",
     "start_time": "2020-10-27T23:42:32.837109Z"
    }
   },
   "outputs": [],
   "source": [
    "num_bots = len(df[df['bot'] == 1])\n",
    "num_humans = len(df[df['bot'] == 0])\n",
    "\n",
    "print(\"Number of bots: \", num_bots)\n",
    "print(\"Number of humans: \", num_humans)\n",
    "print(f'Bots / Total %: {(num_bots / len(df))*100:.2f}')"
   ]
  },
  {
   "cell_type": "code",
   "execution_count": null,
   "metadata": {
    "ExecuteTime": {
     "end_time": "2020-10-27T23:42:33.012438Z",
     "start_time": "2020-10-27T23:42:32.850910Z"
    }
   },
   "outputs": [],
   "source": [
    "types = ['Humans', 'Bots']\n",
    "counts = [num_humans, num_bots]\n",
    "\n",
    "plt.figure(figsize=(4, 4))\n",
    "sns.barplot(x = types, y = counts)\n",
    "plt.title(\"Number of Entries by Account Type\", fontsize=11)\n",
    "sns.despine();"
   ]
  },
  {
   "cell_type": "code",
   "execution_count": null,
   "metadata": {
    "ExecuteTime": {
     "end_time": "2020-10-27T23:42:33.016647Z",
     "start_time": "2020-10-27T23:42:33.013697Z"
    }
   },
   "outputs": [],
   "source": [
    "# For XGBoost\n",
    "estimate = num_humans/num_bots\n",
    "estimate"
   ]
  },
  {
   "cell_type": "code",
   "execution_count": null,
   "metadata": {
    "ExecuteTime": {
     "end_time": "2020-10-27T23:42:33.029862Z",
     "start_time": "2020-10-27T23:42:33.022805Z"
    }
   },
   "outputs": [],
   "source": [
    "forest = RandomForestClassifier(class_weight='balanced')\n",
    "xgb = XGBClassifier(scale_pos_weight=estimate)\n",
    "\n",
    "models = [forest, xgb]\n",
    "kf = KFold(n_splits=5, shuffle=True, random_state=33)"
   ]
  },
  {
   "cell_type": "code",
   "execution_count": null,
   "metadata": {
    "ExecuteTime": {
     "end_time": "2020-10-27T23:42:52.114205Z",
     "start_time": "2020-10-27T23:42:33.034323Z"
    }
   },
   "outputs": [],
   "source": [
    "multi_model_eval(models, X, y, kf)"
   ]
  },
  {
   "cell_type": "markdown",
   "metadata": {},
   "source": [
    "RandomForest doesn't change that much but XGBoost's Recall score jumped past Precision while remaining fairly balanced.\n",
    "\n",
    "Let's look at a the curves."
   ]
  },
  {
   "cell_type": "markdown",
   "metadata": {},
   "source": [
    "### Cross-Validated Precision-Recall and ROC Curves"
   ]
  },
  {
   "cell_type": "markdown",
   "metadata": {},
   "source": [
    "#### RandomForest"
   ]
  },
  {
   "cell_type": "code",
   "execution_count": null,
   "metadata": {
    "ExecuteTime": {
     "end_time": "2020-10-27T23:43:08.022670Z",
     "start_time": "2020-10-27T23:42:52.116168Z"
    }
   },
   "outputs": [],
   "source": [
    "roc_curve_cv(forest, X, y, kf, model_alias='RandomForest')"
   ]
  },
  {
   "cell_type": "code",
   "execution_count": null,
   "metadata": {
    "ExecuteTime": {
     "end_time": "2020-10-27T23:43:23.665638Z",
     "start_time": "2020-10-27T23:43:08.024399Z"
    }
   },
   "outputs": [],
   "source": [
    "precision_recall_cv(forest, X, y, kf, model_alias='RandomForest')"
   ]
  },
  {
   "cell_type": "markdown",
   "metadata": {},
   "source": [
    "#### XGBoost"
   ]
  },
  {
   "cell_type": "code",
   "execution_count": null,
   "metadata": {
    "ExecuteTime": {
     "end_time": "2020-10-27T23:43:26.584853Z",
     "start_time": "2020-10-27T23:43:23.667402Z"
    },
    "scrolled": true
   },
   "outputs": [],
   "source": [
    "roc_curve_cv(xgb, X, y, kf, model_alias='XGBoost')"
   ]
  },
  {
   "cell_type": "code",
   "execution_count": null,
   "metadata": {
    "ExecuteTime": {
     "end_time": "2020-10-27T23:43:29.629659Z",
     "start_time": "2020-10-27T23:43:26.586908Z"
    },
    "scrolled": true
   },
   "outputs": [],
   "source": [
    "precision_recall_cv(xgb, X, y, kf, model_alias='XGBoost')"
   ]
  },
  {
   "cell_type": "markdown",
   "metadata": {},
   "source": [
    "### Confusion Matrices\n",
    "\n",
    "Let's take a look at the confusion matrices of each model for a single train/test split."
   ]
  },
  {
   "cell_type": "code",
   "execution_count": null,
   "metadata": {
    "ExecuteTime": {
     "end_time": "2020-10-27T23:43:29.639683Z",
     "start_time": "2020-10-27T23:43:29.632182Z"
    }
   },
   "outputs": [],
   "source": [
    "X_train, X_val, y_train, y_val = train_test_split(X, y, test_size=.25, random_state=3333)"
   ]
  },
  {
   "cell_type": "markdown",
   "metadata": {},
   "source": [
    "#### RandomForest"
   ]
  },
  {
   "cell_type": "code",
   "execution_count": null,
   "metadata": {
    "ExecuteTime": {
     "end_time": "2020-10-27T23:43:32.388742Z",
     "start_time": "2020-10-27T23:43:29.641057Z"
    }
   },
   "outputs": [],
   "source": [
    "forest = RandomForestClassifier(class_weight='balanced')\n",
    "\n",
    "forest.fit(X_train, y_train)\n",
    "preds = forest.predict(X_val)"
   ]
  },
  {
   "cell_type": "code",
   "execution_count": null,
   "metadata": {
    "ExecuteTime": {
     "end_time": "2020-10-27T23:43:32.608010Z",
     "start_time": "2020-10-27T23:43:32.390703Z"
    },
    "scrolled": true
   },
   "outputs": [],
   "source": [
    "metrics_report(preds, y_val)"
   ]
  },
  {
   "cell_type": "markdown",
   "metadata": {},
   "source": [
    "#### XGBoost"
   ]
  },
  {
   "cell_type": "code",
   "execution_count": null,
   "metadata": {
    "ExecuteTime": {
     "end_time": "2020-10-27T23:43:33.147691Z",
     "start_time": "2020-10-27T23:43:32.609730Z"
    }
   },
   "outputs": [],
   "source": [
    "xgb = XGBClassifier(scale_pos_weight=estimate)\n",
    "\n",
    "xgb.fit(X_train, y_train)\n",
    "preds = xgb.predict(X_val)"
   ]
  },
  {
   "cell_type": "code",
   "execution_count": null,
   "metadata": {
    "ExecuteTime": {
     "end_time": "2020-10-27T23:43:33.384322Z",
     "start_time": "2020-10-27T23:43:33.149398Z"
    }
   },
   "outputs": [],
   "source": [
    "metrics_report(preds, y_val)"
   ]
  },
  {
   "cell_type": "markdown",
   "metadata": {},
   "source": [
    "### Feature Importance\n",
    "\n",
    "How does each model use the features? "
   ]
  },
  {
   "cell_type": "code",
   "execution_count": null,
   "metadata": {
    "ExecuteTime": {
     "end_time": "2020-10-27T23:43:33.566247Z",
     "start_time": "2020-10-27T23:43:33.386031Z"
    },
    "scrolled": true
   },
   "outputs": [],
   "source": [
    "plot_feature_importance(forest, features, model_alias='RandomForest')"
   ]
  },
  {
   "cell_type": "code",
   "execution_count": null,
   "metadata": {
    "ExecuteTime": {
     "end_time": "2020-10-27T23:43:33.761330Z",
     "start_time": "2020-10-27T23:43:33.567968Z"
    },
    "scrolled": true
   },
   "outputs": [],
   "source": [
    "plot_feature_importance(xgb, features, model_alias='XGBoost')"
   ]
  },
  {
   "cell_type": "markdown",
   "metadata": {},
   "source": [
    "It's actually quite interesting how each model uses the features! Network is important for both, but the rest is pretty scattered. Favourites count seems pretty important in both, so does average tweets per day. I'm surprised that RandomForest doesn't have verified as more important.\n",
    "\n",
    "What's also interesting to note is that the feature scores in RandomForest are much more even than XGBoost - where network and verified are very high and the rest are much smaller.\n",
    "\n",
    "If I had to pick one model right now, it'd be XGBoost based on the better balance between precision and recall. I still want to take another look at features, continue to tune model parameters, and possibly ensembling RandomForest and XGBoost to create a super model. "
   ]
  },
  {
   "cell_type": "markdown",
   "metadata": {},
   "source": [
    "## Continued Tuning and Feature Selection"
   ]
  },
  {
   "cell_type": "code",
   "execution_count": null,
   "metadata": {
    "ExecuteTime": {
     "end_time": "2020-10-27T23:43:33.778248Z",
     "start_time": "2020-10-27T23:43:33.762792Z"
    }
   },
   "outputs": [],
   "source": [
    "df.head(3)"
   ]
  },
  {
   "cell_type": "code",
   "execution_count": null,
   "metadata": {
    "ExecuteTime": {
     "end_time": "2020-10-27T23:43:33.791046Z",
     "start_time": "2020-10-27T23:43:33.779921Z"
    }
   },
   "outputs": [],
   "source": [
    "features = ['verified', \n",
    "            #'created_at',\n",
    "            'hour_created',\n",
    "            #'lang',\n",
    "            #'acct_location',\n",
    "            'geo_enabled', \n",
    "            'default_profile', \n",
    "            'default_profile_image', \n",
    "            'favourites_count', \n",
    "            'followers_count', \n",
    "            'friends_count', \n",
    "            'statuses_count', \n",
    "            'average_tweets_per_day',\n",
    "            #'avg_daily_followers', \n",
    "            #'avg_daily_friends',\n",
    "            #'avg_daily_favorites',\n",
    "            'network', \n",
    "            'tweet_to_followers', \n",
    "            'follower_acq_rate', \n",
    "            'friends_acq_rate', \n",
    "            #'favs_rate'\n",
    "           ]\n",
    "\n",
    "X = df[features]\n",
    "y = df['bot']\n",
    "\n",
    "X, X_test, y, y_test = train_test_split(X, y, test_size=.3, random_state=1234)"
   ]
  },
  {
   "cell_type": "markdown",
   "metadata": {},
   "source": [
    "### Finding the best XGBoost Model"
   ]
  },
  {
   "cell_type": "code",
   "execution_count": null,
   "metadata": {
    "ExecuteTime": {
     "end_time": "2020-10-27T23:43:33.798458Z",
     "start_time": "2020-10-27T23:43:33.792470Z"
    }
   },
   "outputs": [],
   "source": [
    "xgb = XGBClassifier(scale_pos_weight=1.8, \n",
    "                    tree_method='hist', \n",
    "                    learning_rate=0.1,           \n",
    "                    eta=0.01,                 \n",
    "                    max_depth=7,                \n",
    "                    gamma=0.05,\n",
    "                    n_estimators=200,\n",
    "                    colsample_bytree=.8\n",
    "                   )\n",
    "\n",
    "model_list = [xgb]"
   ]
  },
  {
   "cell_type": "code",
   "execution_count": null,
   "metadata": {
    "ExecuteTime": {
     "end_time": "2020-10-27T23:43:35.676310Z",
     "start_time": "2020-10-27T23:43:33.799986Z"
    }
   },
   "outputs": [],
   "source": [
    "kf = KFold(n_splits=5, shuffle=True, random_state=33)\n",
    "\n",
    "multi_model_eval(model_list, X, y, kf)"
   ]
  },
  {
   "cell_type": "markdown",
   "metadata": {},
   "source": [
    "I think these are pretty solid scores and this is the most balanced version of the model I've been able to come up with thus far. Let's take a look at the curves. "
   ]
  },
  {
   "cell_type": "code",
   "execution_count": null,
   "metadata": {
    "ExecuteTime": {
     "end_time": "2020-10-27T23:43:37.857132Z",
     "start_time": "2020-10-27T23:43:35.678185Z"
    },
    "scrolled": true
   },
   "outputs": [],
   "source": [
    "roc_curve_cv(xgb, X, y, kf, model_alias='XGBoost')"
   ]
  },
  {
   "cell_type": "code",
   "execution_count": null,
   "metadata": {
    "ExecuteTime": {
     "end_time": "2020-10-27T23:43:39.927011Z",
     "start_time": "2020-10-27T23:43:37.859047Z"
    }
   },
   "outputs": [],
   "source": [
    "precision_recall_cv(xgb, X, y, kf, model_alias='XGBoost')"
   ]
  },
  {
   "cell_type": "markdown",
   "metadata": {},
   "source": [
    "I like these scores a lot. Still, let's try ensembling RandomForest with XGBoost."
   ]
  },
  {
   "cell_type": "markdown",
   "metadata": {},
   "source": [
    "### Ensembling with VotingClassifier"
   ]
  },
  {
   "cell_type": "code",
   "execution_count": null,
   "metadata": {
    "ExecuteTime": {
     "end_time": "2020-10-27T23:43:39.934880Z",
     "start_time": "2020-10-27T23:43:39.928228Z"
    }
   },
   "outputs": [],
   "source": [
    "X_train, X_val, y_train, y_val = train_test_split(X, y, test_size=.3, random_state=1234)"
   ]
  },
  {
   "cell_type": "code",
   "execution_count": null,
   "metadata": {
    "ExecuteTime": {
     "end_time": "2020-10-27T23:43:42.915971Z",
     "start_time": "2020-10-27T23:43:39.936980Z"
    }
   },
   "outputs": [],
   "source": [
    "forest = RandomForestClassifier(class_weight='balanced')\n",
    "forest = forest.fit(X_train, y_train)\n",
    "\n",
    "xgb = XGBClassifier(scale_pos_weight=1.8, \n",
    "                    tree_method='hist', \n",
    "                    learning_rate=0.1,           \n",
    "                    eta=0.01,                 \n",
    "                    max_depth=7,                \n",
    "                    gamma=0.05,\n",
    "                    n_estimators=200,\n",
    "                    colsample_bytree=.8\n",
    "                   )\n",
    "\n",
    "xgb = xgb.fit(X_train, y_train)"
   ]
  },
  {
   "cell_type": "code",
   "execution_count": null,
   "metadata": {
    "ExecuteTime": {
     "end_time": "2020-10-27T23:43:47.218818Z",
     "start_time": "2020-10-27T23:43:42.917703Z"
    }
   },
   "outputs": [],
   "source": [
    "models = [('forest', forest), ('xgb', xgb)]\n",
    "\n",
    "voting_classifier = VotingClassifier(estimators=models,\n",
    "                                     voting='soft',\n",
    "                                     n_jobs=-1)\n",
    "\n",
    "voting_classifier = voting_classifier.fit(X_train, y_train)"
   ]
  },
  {
   "cell_type": "code",
   "execution_count": null,
   "metadata": {
    "ExecuteTime": {
     "end_time": "2020-10-27T23:43:47.616881Z",
     "start_time": "2020-10-27T23:43:47.221184Z"
    },
    "scrolled": true
   },
   "outputs": [],
   "source": [
    "voting_classifier_prediction = voting_classifier.predict(X_val)\n",
    "\n",
    "metrics_report(voting_classifier_prediction, y_val)"
   ]
  },
  {
   "cell_type": "markdown",
   "metadata": {},
   "source": [
    "Worse! \n",
    "\n",
    "It's decided - XGBoost is the winning model."
   ]
  },
  {
   "cell_type": "markdown",
   "metadata": {},
   "source": [
    "## Best XGBoost Model: Full Train & Test and Results\n",
    "\n",
    "Now to train the model on the full training data and test on the hold out set."
   ]
  },
  {
   "cell_type": "code",
   "execution_count": null,
   "metadata": {
    "ExecuteTime": {
     "end_time": "2020-10-27T23:43:47.621329Z",
     "start_time": "2020-10-27T23:43:47.618631Z"
    }
   },
   "outputs": [],
   "source": [
    "# Full train & test\n",
    "best_model = XGBClassifier(scale_pos_weight=1.8, \n",
    "                    tree_method='hist', \n",
    "                    learning_rate=0.1,           \n",
    "                    eta=0.01,                 \n",
    "                    max_depth=7,                \n",
    "                    gamma=0.05,\n",
    "                    n_estimators=200,\n",
    "                    colsample_bytree=.8\n",
    "                   )"
   ]
  },
  {
   "cell_type": "code",
   "execution_count": null,
   "metadata": {
    "ExecuteTime": {
     "end_time": "2020-10-27T23:43:47.949232Z",
     "start_time": "2020-10-27T23:43:47.623097Z"
    }
   },
   "outputs": [],
   "source": [
    "best_model.fit(X, y)"
   ]
  },
  {
   "cell_type": "code",
   "execution_count": null,
   "metadata": {
    "ExecuteTime": {
     "end_time": "2020-10-27T23:43:48.208254Z",
     "start_time": "2020-10-27T23:43:47.950887Z"
    },
    "scrolled": true
   },
   "outputs": [],
   "source": [
    "best_model_prediction = best_model.predict(X_test)\n",
    "\n",
    "metrics_report(best_model_prediction, y_test)"
   ]
  },
  {
   "cell_type": "code",
   "execution_count": null,
   "metadata": {
    "ExecuteTime": {
     "end_time": "2020-10-27T23:43:48.422662Z",
     "start_time": "2020-10-27T23:43:48.210065Z"
    }
   },
   "outputs": [],
   "source": [
    "fpr, tpr, thresholds = roc_curve(y_test, best_model.predict_proba(X_test)[:,1])\n",
    "\n",
    "model_auc = roc_auc_score(y_test, best_model.predict_proba(X_test)[:,1])\n",
    "\n",
    "plt.figure(figsize=(4, 4), dpi=100)\n",
    "plt.plot(fpr, tpr,lw=2, label=f'AUC: {model_auc:.4f}')\n",
    "plt.plot([0,1],[0,1],c='grey',ls='--', label='Chance Line')\n",
    "plt.xlim([-0.05,1.05])\n",
    "plt.ylim([-0.05,1.05])\n",
    "\n",
    "plt.xlabel('False positive rate', fontsize=10)\n",
    "plt.ylabel('True positive rate', fontsize=10)\n",
    "plt.title('ROC Curve for Best XGBoost Model', fontsize=11)\n",
    "plt.legend(loc='lower right', prop={'size': 8}, frameon=False)\n",
    "sns.despine()\n",
    "print(f'ROC AUC score: {model_auc:.4f}')\n",
    "print(\"\")\n",
    "plt.show();"
   ]
  },
  {
   "cell_type": "code",
   "execution_count": null,
   "metadata": {
    "ExecuteTime": {
     "end_time": "2020-10-27T23:43:48.654566Z",
     "start_time": "2020-10-27T23:43:48.424297Z"
    }
   },
   "outputs": [],
   "source": [
    "# Prec Recal Curve here\n",
    "\n",
    "model_precision, model_recall, _ = precision_recall_curve(y_test, best_model.predict_proba(X_test)[:,1])\n",
    "\n",
    "# plot the precision-recall curves\n",
    "no_skill = len(y_test[y_test==1]) / len(y_test)\n",
    "\n",
    "plt.figure(figsize=(4, 4), dpi=100)\n",
    "plt.plot([0, 1], [no_skill, no_skill], linestyle='--', label='No Skill')\n",
    "plt.plot(model_recall, model_precision, marker=',', label='XGBoost')\n",
    "# axis labels\n",
    "plt.title('Precision-Recall Curve for Best XGBoost Model', fontsize=11)\n",
    "plt.xlabel('Recall', fontsize=10)\n",
    "plt.ylabel('Precision', fontsize=10)\n",
    "# show the legend\n",
    "plt.legend(loc='upper right', prop={'size': 8}, frameon=False)\n",
    "# show the plot\n",
    "sns.despine()\n",
    "\n",
    "pred = best_model.predict(X_test)\n",
    "prec_score = precision_score(y_test, pred)\n",
    "rec_score = recall_score(y_test, pred)\n",
    "\n",
    "print(f'Precision score: {prec_score:.4f}')\n",
    "print(f'Rcall score: {rec_score:.4f}')\n",
    "print(\"\")"
   ]
  },
  {
   "cell_type": "markdown",
   "metadata": {},
   "source": [
    "These are even better than the CV training scores! \n",
    "\n",
    "Literally every metric improved: \n",
    "\n",
    "```\n",
    "Metric     |  CV Score |  Test Score\n",
    "-----------+-----------+------------\n",
    "Accuracy:  |   0.8687  |   0.8770\n",
    "Precision: |   0.8035  |   0.8136\n",
    "Recall:    |   0.8031  |   0.8091\n",
    "F1 Score:  |   0.8033  |   0.8144\n",
    "ROC AUC:   |   0.9310  |   0.9336\n",
    "```    "
   ]
  },
  {
   "cell_type": "code",
   "execution_count": null,
   "metadata": {
    "ExecuteTime": {
     "end_time": "2020-10-27T23:43:48.950479Z",
     "start_time": "2020-10-27T23:43:48.656271Z"
    }
   },
   "outputs": [],
   "source": [
    "plot_feature_importance(best_model, features, model_alias='XGBoost')"
   ]
  },
  {
   "cell_type": "markdown",
   "metadata": {},
   "source": [
    "Interestingly enough, the model switched Network and Verification statuses in the feature importance rankings. "
   ]
  },
  {
   "cell_type": "markdown",
   "metadata": {},
   "source": [
    "## Train model on the data dataset to use for new predictions\n",
    "\n",
    "Now to train the model on the full dataset and pickle it for later use to make predictions on live Twitter users using their API."
   ]
  },
  {
   "cell_type": "code",
   "execution_count": null,
   "metadata": {
    "ExecuteTime": {
     "end_time": "2020-10-27T23:43:48.958941Z",
     "start_time": "2020-10-27T23:43:48.952536Z"
    }
   },
   "outputs": [],
   "source": [
    "features = ['verified', \n",
    "            'hour_created',\n",
    "            'geo_enabled', \n",
    "            'default_profile', \n",
    "            'default_profile_image', \n",
    "            'favourites_count', \n",
    "            'followers_count', \n",
    "            'friends_count', \n",
    "            'statuses_count', \n",
    "            'average_tweets_per_day',\n",
    "            'network', \n",
    "            'tweet_to_followers', \n",
    "            'follower_acq_rate', \n",
    "            'friends_acq_rate', \n",
    "           ]\n",
    "\n",
    "X = df[features]\n",
    "y = df['bot']"
   ]
  },
  {
   "cell_type": "code",
   "execution_count": null,
   "metadata": {
    "ExecuteTime": {
     "end_time": "2020-10-27T23:43:49.334498Z",
     "start_time": "2020-10-27T23:43:48.960256Z"
    }
   },
   "outputs": [],
   "source": [
    "fully_trained_model = XGBClassifier(scale_pos_weight=1.8, \n",
    "                                    tree_method='hist', \n",
    "                                    learning_rate=0.1,           \n",
    "                                    eta=0.01,                 \n",
    "                                    max_depth=7,                \n",
    "                                    gamma=0.05,\n",
    "                                    n_estimators=200,\n",
    "                                    colsample_bytree=.8\n",
    "                                   )\n",
    "\n",
    "fully_trained_model.fit(X, y)"
   ]
  },
  {
   "cell_type": "markdown",
   "metadata": {},
   "source": [
    "Save as pickle to use later!"
   ]
  },
  {
   "cell_type": "code",
   "execution_count": null,
   "metadata": {
    "ExecuteTime": {
     "end_time": "2020-10-27T23:43:49.338007Z",
     "start_time": "2020-10-27T23:43:49.336214Z"
    }
   },
   "outputs": [],
   "source": [
    "# with open('flask_app/model.pickle', 'wb') as to_write:\n",
    "#    pickle.dump(fully_trained_model, to_write)"
   ]
  }
 ],
 "metadata": {
  "kernelspec": {
   "display_name": "Python 3 (ipykernel)",
   "language": "python",
   "name": "python3"
  },
  "language_info": {
   "codemirror_mode": {
    "name": "ipython",
    "version": 3
   },
   "file_extension": ".py",
   "mimetype": "text/x-python",
   "name": "python",
   "nbconvert_exporter": "python",
   "pygments_lexer": "ipython3",
   "version": "3.8.10"
  },
  "toc": {
   "base_numbering": 1,
   "nav_menu": {},
   "number_sections": true,
   "sideBar": true,
   "skip_h1_title": false,
   "title_cell": "Table of Contents",
   "title_sidebar": "Contents",
   "toc_cell": false,
   "toc_position": {
    "height": "calc(100% - 180px)",
    "left": "10px",
    "top": "150px",
    "width": "309px"
   },
   "toc_section_display": true,
   "toc_window_display": true
  },
  "varInspector": {
   "cols": {
    "lenName": 16,
    "lenType": 16,
    "lenVar": 40
   },
   "kernels_config": {
    "python": {
     "delete_cmd_postfix": "",
     "delete_cmd_prefix": "del ",
     "library": "var_list.py",
     "varRefreshCmd": "print(var_dic_list())"
    },
    "r": {
     "delete_cmd_postfix": ") ",
     "delete_cmd_prefix": "rm(",
     "library": "var_list.r",
     "varRefreshCmd": "cat(var_dic_list()) "
    }
   },
   "types_to_exclude": [
    "module",
    "function",
    "builtin_function_or_method",
    "instance",
    "_Feature"
   ],
   "window_display": false
  }
 },
 "nbformat": 4,
 "nbformat_minor": 4
}
